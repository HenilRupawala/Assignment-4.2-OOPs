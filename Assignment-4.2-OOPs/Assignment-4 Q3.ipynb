{
 "cells": [
  {
   "cell_type": "code",
   "execution_count": 1,
   "id": "a7cfaacb-3cf7-4d18-bce9-8a1587fce97d",
   "metadata": {},
   "outputs": [],
   "source": [
    "# Q3. What is abc module in python? Why is it used?"
   ]
  },
  {
   "cell_type": "markdown",
   "id": "392964d7-5cc2-4ab1-83c6-df51f0e14d11",
   "metadata": {},
   "source": [
    "The 'abc' module in Python library provides the infrastructure for defining custom abstract base classes. \n",
    "\n",
    "'abc' works by marking methods of the base class as abstract. \n",
    "\n",
    "This is done by @absttractmethod decorator.\n",
    "\n",
    "The abc module and abstract base classes are used for achieving abstraction and defining common interfaces and structures in object-oriented programming. They help in managing complexity, enforcing contracts, and providing a clear separation between the interface and implementation."
   ]
  }
 ],
 "metadata": {
  "kernelspec": {
   "display_name": "Python 3 (ipykernel)",
   "language": "python",
   "name": "python3"
  },
  "language_info": {
   "codemirror_mode": {
    "name": "ipython",
    "version": 3
   },
   "file_extension": ".py",
   "mimetype": "text/x-python",
   "name": "python",
   "nbconvert_exporter": "python",
   "pygments_lexer": "ipython3",
   "version": "3.10.8"
  }
 },
 "nbformat": 4,
 "nbformat_minor": 5
}
