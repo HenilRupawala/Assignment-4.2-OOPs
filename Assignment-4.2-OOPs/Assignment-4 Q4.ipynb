{
 "cells": [
  {
   "cell_type": "code",
   "execution_count": 1,
   "id": "5c9e0074-2233-4b8a-8f8b-abe972b7a687",
   "metadata": {},
   "outputs": [],
   "source": [
    "# Q4. How can we achieve data abstraction?"
   ]
  },
  {
   "cell_type": "markdown",
   "id": "771510d7-2862-4ad8-936f-f3b83c349772",
   "metadata": {},
   "source": [
    "To achieve data abstraction, you can follow these steps:\n",
    "\n",
    "1. Define a Class: \n",
    "Create a class that represents the abstract concept or entity you want to work with. Determine the essential attributes and behaviors of the class.\n",
    "\n",
    "2. Encapsulate Data:\n",
    "Encapsulate the data related to the class by defining instance variables (attributes) within the class. Make these variables private by prefixing them with double underscores (__). Encapsulation ensures that the internal representation of the class is hidden and can only be accessed through defined methods.\n",
    "\n",
    "3. Define Methods:\n",
    "Define methods (member functions) within the class that provide the necessary functionality and behavior. These methods should interact with the encapsulated data and perform the desired operations.\n",
    "\n",
    "4. Provide a Public Interface:\n",
    "Decide which methods should be accessible to the users of your class (public interface). Mark these methods as public by not using the double underscore prefix. The public interface provides a simplified and well-defined way to interact with the objects of your class."
   ]
  }
 ],
 "metadata": {
  "kernelspec": {
   "display_name": "Python 3 (ipykernel)",
   "language": "python",
   "name": "python3"
  },
  "language_info": {
   "codemirror_mode": {
    "name": "ipython",
    "version": 3
   },
   "file_extension": ".py",
   "mimetype": "text/x-python",
   "name": "python",
   "nbconvert_exporter": "python",
   "pygments_lexer": "ipython3",
   "version": "3.10.8"
  }
 },
 "nbformat": 4,
 "nbformat_minor": 5
}
