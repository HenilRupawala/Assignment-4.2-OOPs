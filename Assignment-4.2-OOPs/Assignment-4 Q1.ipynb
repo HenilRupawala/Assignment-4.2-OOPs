{
 "cells": [
  {
   "cell_type": "code",
   "execution_count": 16,
   "id": "379e206e-6d17-4533-b378-430f3f64ad99",
   "metadata": {},
   "outputs": [],
   "source": [
    "# Q1. What is Abstraction in OOps? Explain with an example."
   ]
  },
  {
   "cell_type": "markdown",
   "id": "383cb516-67c4-4e4f-a939-2b144441c3a3",
   "metadata": {},
   "source": [
    "An abstract class can be considered as a blueprint for other classes. It allows you to create a set of methods that must be created within any child classes built from the abstract class. A class which contains one or more abstract methods is called an abstract class. An abstract method is a method that has a declaration but does not have an implementation. While we are designing large functional units we use an abstract class. When we want to provide a common interface for different implementations of a component, we use an abstract class. This whole process is known as abstraction.\n",
    "\n",
    "In Python, abstraction can be achieved by using abstract classes and methods in our programs. For Example,"
   ]
  },
  {
   "cell_type": "code",
   "execution_count": 2,
   "id": "e037db4f-4d5a-484d-a35d-d6fced584068",
   "metadata": {},
   "outputs": [],
   "source": [
    "import abc\n",
    "\n",
    "class company:\n",
    "    \n",
    "    @abc.abstractmethod\n",
    "    def employee_details(self):\n",
    "        pass\n",
    "    \n",
    "    @abc.abstractmethod\n",
    "    def employee_jobrole(self):\n",
    "        pass\n",
    "    \n",
    "    @abc.abstractmethod\n",
    "    def employee_task(self):\n",
    "        pass"
   ]
  },
  {
   "cell_type": "code",
   "execution_count": 3,
   "id": "69835be7-5ecc-4189-9ac6-73842b9b2512",
   "metadata": {},
   "outputs": [],
   "source": [
    "class web_dev(company):\n",
    "    \n",
    "    def employee_details(self):\n",
    "        return \"This employee is from web development department\"\n",
    "    \n",
    "    def employee_task(self):\n",
    "        return \"He is working on a back-end\""
   ]
  },
  {
   "cell_type": "code",
   "execution_count": 4,
   "id": "69467284-5162-4817-abb0-7bbc15c282ef",
   "metadata": {},
   "outputs": [],
   "source": [
    "class python_dev(company):\n",
    "    \n",
    "    def employee_jobrole(self):\n",
    "        return \"This employee is a python developer\"\n",
    "    \n",
    "    def employee_task(self):\n",
    "        return \"He is working on web scrapping\""
   ]
  },
  {
   "cell_type": "code",
   "execution_count": 7,
   "id": "e4b662eb-0cbe-426d-ab77-ca94c2d76a91",
   "metadata": {},
   "outputs": [],
   "source": [
    "class data_scientist(company):\n",
    "    \n",
    "    def employee_details(self):\n",
    "        return \"This employee is from back-end department\"\n",
    "    \n",
    "    def employee_jobrole(self):\n",
    "        return \"This employee is a Data Scientist\"\n",
    "    \n",
    "    def employee_task(self):\n",
    "        return \"He is working on AI\""
   ]
  },
  {
   "cell_type": "code",
   "execution_count": 10,
   "id": "370dda8a-e297-446b-8327-28fc7cb5fa10",
   "metadata": {},
   "outputs": [
    {
     "data": {
      "text/plain": [
       "'This employee web development department'"
      ]
     },
     "execution_count": 10,
     "metadata": {},
     "output_type": "execute_result"
    }
   ],
   "source": [
    "wd = web_dev()\n",
    "wd.employee_details()"
   ]
  },
  {
   "cell_type": "code",
   "execution_count": 13,
   "id": "13a1ea7b-9ee3-4b12-a681-c539cfda5898",
   "metadata": {},
   "outputs": [
    {
     "data": {
      "text/plain": [
       "'This employee is a python developer'"
      ]
     },
     "execution_count": 13,
     "metadata": {},
     "output_type": "execute_result"
    }
   ],
   "source": [
    "pd = python_dev()\n",
    "pd.employee_jobrole()"
   ]
  },
  {
   "cell_type": "code",
   "execution_count": 15,
   "id": "a4e6d1a9-05cd-4d37-83de-34d7551e5688",
   "metadata": {},
   "outputs": [
    {
     "data": {
      "text/plain": [
       "'This employee is from back-end department'"
      ]
     },
     "execution_count": 15,
     "metadata": {},
     "output_type": "execute_result"
    }
   ],
   "source": [
    "ds = data_scientist()\n",
    "ds.employee_details()"
   ]
  }
 ],
 "metadata": {
  "kernelspec": {
   "display_name": "Python 3 (ipykernel)",
   "language": "python",
   "name": "python3"
  },
  "language_info": {
   "codemirror_mode": {
    "name": "ipython",
    "version": 3
   },
   "file_extension": ".py",
   "mimetype": "text/x-python",
   "name": "python",
   "nbconvert_exporter": "python",
   "pygments_lexer": "ipython3",
   "version": "3.10.8"
  }
 },
 "nbformat": 4,
 "nbformat_minor": 5
}
