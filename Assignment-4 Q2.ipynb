{
 "cells": [
  {
   "cell_type": "code",
   "execution_count": 1,
   "id": "61797d48-c84a-45fe-90c8-82029023f889",
   "metadata": {},
   "outputs": [],
   "source": [
    "# Q2. Differentiate between Abstraction and Encapsulation. Explain with an example."
   ]
  },
  {
   "cell_type": "markdown",
   "id": "3b0aa75e-c25d-4639-89fe-45b05985351c",
   "metadata": {},
   "source": [
    "Abstraction:\n",
    "\n",
    "Abstraction focuses on representing the essential characteristics and behaviors of an object while hiding unnecessary details. It allows you to create abstract classes and interfaces that define a common interface and structure for their subclasses.\n",
    "\n",
    "Abstract classes can contain both concrete and abstract methods. Abstract methods serve as placeholders and must be overridden by concrete subclasses. Abstraction helps in managing complexity, promoting code reusability, and providing a simplified view of objects.\n",
    "\n",
    "For Example,"
   ]
  },
  {
   "cell_type": "code",
   "execution_count": 8,
   "id": "491d264e-0be7-4459-bdd9-d605d37563c6",
   "metadata": {},
   "outputs": [
    {
     "name": "stdout",
     "output_type": "stream",
     "text": [
      "15\n"
     ]
    }
   ],
   "source": [
    "import abc\n",
    "\n",
    "class Shape():\n",
    "    @abc.abstractmethod\n",
    "    def calculate_area(self):\n",
    "        pass\n",
    "\n",
    "class Rectangle(Shape):\n",
    "    def __init__(self, length, width):\n",
    "        self.length = length\n",
    "        self.width = width\n",
    "\n",
    "    def calculate_area(self):\n",
    "        return self.length * self.width\n",
    "\n",
    "rectangle = Rectangle(5, 3)\n",
    "print(rectangle.calculate_area())\n"
   ]
  },
  {
   "cell_type": "code",
   "execution_count": null,
   "id": "e7b8eeaf-1ad9-4fe7-90ce-12cdff7777c9",
   "metadata": {},
   "outputs": [],
   "source": []
  },
  {
   "cell_type": "markdown",
   "id": "d1960ea4-56af-4317-844d-68790376a409",
   "metadata": {},
   "source": [
    "Encapsulation:\n",
    "\n",
    "Encapsulation focuses on bundling data and related methods together within a class and restricting access to the internal state of an object from the outside.\n",
    "\n",
    "It promotes data hiding and information hiding, ensuring that the internal representation and implementation details of an object are hidden and can only be accessed through well-defined methods (getters and setters).\n",
    "\n",
    "Encapsulation helps in achieving data integrity, code maintainability, and prevents direct manipulation of object properties.\n",
    "\n",
    "For Example,"
   ]
  },
  {
   "cell_type": "code",
   "execution_count": 9,
   "id": "0b763fa6-3c4c-4931-84c1-d31565308032",
   "metadata": {},
   "outputs": [
    {
     "name": "stdout",
     "output_type": "stream",
     "text": [
      "Alice\n",
      "25\n",
      "30\n"
     ]
    }
   ],
   "source": [
    "class Person:\n",
    "    def __init__(self, name, age):\n",
    "        self._name = name  # Encapsulated attribute\n",
    "        self._age = age    # Encapsulated attribute\n",
    "\n",
    "    def get_name(self):\n",
    "        return self._name\n",
    "\n",
    "    def get_age(self):\n",
    "        return self._age\n",
    "\n",
    "    def set_age(self, age):\n",
    "        if age > 0:\n",
    "            self._age = age\n",
    "\n",
    "person = Person(\"Alice\", 25)\n",
    "print(person.get_name())  \n",
    "print(person.get_age())   \n",
    "\n",
    "person.set_age(30)\n",
    "print(person.get_age())"
   ]
  }
 ],
 "metadata": {
  "kernelspec": {
   "display_name": "Python 3 (ipykernel)",
   "language": "python",
   "name": "python3"
  },
  "language_info": {
   "codemirror_mode": {
    "name": "ipython",
    "version": 3
   },
   "file_extension": ".py",
   "mimetype": "text/x-python",
   "name": "python",
   "nbconvert_exporter": "python",
   "pygments_lexer": "ipython3",
   "version": "3.10.8"
  }
 },
 "nbformat": 4,
 "nbformat_minor": 5
}
